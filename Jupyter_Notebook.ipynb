{
 "cells": [
  {
   "cell_type": "markdown",
   "metadata": {},
   "source": [
    "<center>\n",
    "    <img src=\"https://cf-courses-data.s3.us.cloud-object-storage.appdomain.cloud/IBMDeveloperSkillsNetwork-DS0105EN-SkillsNetwork/labs/Module2/images/SN_web_lightmode.png\" width=\"300\" alt=\"cognitiveclass.ai logo\">\n",
    "</center>\n"
   ]
  },
  {
   "cell_type": "markdown",
   "metadata": {},
   "source": [
    "# Final Project\n",
    "## Introduction\n",
    "\n",
    "This project is to complete some basic tasks of Data Science programming. I am doing this project using Python and markdown codes on the Jupyterlite Notebook platform.\n",
    "\n",
    "## Data Science languages\n",
    "\n",
    "- Python: It's a high-level, interpreted and general-purpose dynamic programming language that focuses on code readability.\n",
    "- R: It's a programming language and free software environment for statistical computing and graphics supported by the R Foundation for Statistical Computing.\n",
    "- SQL: It's a standard language for managing and manipulating databases.\n",
    "- Julia: It's a high-level, high-performance dynamic programming language for technical computing, with syntax that is familiar to users of other technical computing environments.\n",
    "- Scala: It's a strong static type of programming language and it's influenced by the Java programming language.\n",
    "- MATLAB: It's a high-performance language for technical computing. It integrates computation, visualization, and programming in an easy-to-use environment where problems and solutions are expressed in common mathematical notation.\n",
    "- SAS: It's a software suite developed by SAS Institute for advanced analytics, multivariate analyses, business intelligence, data management, and predictive analytics.\n",
    "\n",
    "## Data Science libraries\n",
    "\n",
    "- NumPy: It provides support for arrays and matrices, along with a collection of mathematical functions to operate on these elements.\n",
    "- SciPy: Built on top of NumPy, it provides additional functionality compared to NumPy.\n",
    "- Pandas: Used for data manipulation and analysis. It provides data structures and functions needed to manipulate structured data.\n",
    "- Matplotlib: It's a plotting library, and it is designed to work with the broader SciPy stack.\n",
    "- Seaborn: This is a Python visualization library based on Matplotlib. It provides a high-level interface for drawing attractive statistical graphics.\n",
    "- Plotly: It's a graphing library makes interactive, publication-quality graphs online.\n",
    "- Bokeh: It's a Python interactive visualization library that targets modern web browsers for presentation.\n",
    "- Statsmodels: It provides functions for the estimation of many different statistical models, as well as for conducting statistical tests and statistical data exploration.\n",
    "- Scikit-learn: Built on NumPy, SciPy, and Matplotlib, this library contains a lot of efficient tools for machine learning and statistical modeling including classification, regression, clustering and dimensionality reduction.\n",
    "- TensorFlow: It's a free and open-source software library for dataflow and differentiable programming across a range of tasks, and it's a symbolic math library used for machine learning applications such as neural networks.\n",
    "- PyTorch: Similar to TensorFlow, it's a machine learning library for Python, based on Torch, used for applications such as natural language processing.\n",
    "- Keras: It's a high-level neural networks API, written in Python and capable of running on top of TensorFlow, CNTK, or Theano.\n",
    "\n",
    "\n",
    "## Table of Data Science tools\n",
    "\n",
    "| Platform | Use |\n",
    "| --- | --- |\n",
    "| Jupyter Notebook | Interactive coding and data visualization |\n",
    "| Google Colab | A cloud based data science workspace similar to Jupyter Notebook |\n",
    "| Kaggle Kernels | Kaggle's cloud based data science workspace with free GPU access |\n",
    "| IBM Watson Studio | IBM's cloud platform for data scientists |\n",
    "| Microsoft Azure Notebooks | Microsoft's cloud based Jupyter notebooks |\n",
    "| Databricks Community Edition | Limited free version of Databricks' data science workspace |\n",
    "| Dataiku DSS | Collaborative data science software marketed for big data |\n",
    "| Domino Data Lab | Data science collaboration platform |\n",
    "| Mode Analytics | Collaborative data science platform with smart SQL editor |\n",
    "| RapidMiner | Data science platform that supports over 40 file types |\n",
    "\n",
    "## Arithmetic expression examples\n",
    "\n",
    "Arithmetic expressions are combinations of numbers, variables and operators that are calculated to produce a result. Here are some examples:\n",
    "\n",
    "- Addition: `3 + 2` results in `5`\n",
    "- Subtraction: `3 - 2` results in `1`\n",
    "- Multiplication: `3 * 2` results in `6`\n",
    "- Division: `3 / 2` results in `1.5`\n",
    "- Exponentiation: `3 ** 2` results in `9`\n",
    "- Modulus: `3 % 2` results in `1`\n",
    "- Floor Division: `3 // 2` results in `1`"
   ]
  },
  {
   "cell_type": "code",
   "execution_count": 26,
   "metadata": {
    "tags": []
   },
   "outputs": [
    {
     "name": "stdout",
     "output_type": "stream",
     "text": [
      "The result is 103\n"
     ]
    }
   ],
   "source": [
    "Cal = (6+18)*4+7\n",
    "print(\"The result is\", Cal)"
   ]
  },
  {
   "cell_type": "code",
   "execution_count": 19,
   "metadata": {
    "tags": []
   },
   "outputs": [
    {
     "name": "stdout",
     "output_type": "stream",
     "text": [
      "168 minutes = 2.8 hours.\n"
     ]
    }
   ],
   "source": [
    "minutes = 168\n",
    "hours = minutes / 60\n",
    "print(minutes, \"minutes =\", hours, \"hours.\")"
   ]
  },
  {
   "cell_type": "markdown",
   "metadata": {
    "tags": []
   },
   "source": [
    "## Objectives\n",
    "\n",
    "- Create a Jupyter Notebook with markdown and code cells\n",
    "- List examples of languages, libraries and tools used in Data Science\n",
    "- Share your Jupyter Notebook publicly on GitHub\n",
    "- Evaluate notebooks submitted by your peers using the provided rubric\n",
    "- Demonstrate proficiency in Data Science toolkit knowledge"
   ]
  },
  {
   "cell_type": "markdown",
   "metadata": {
    "tags": []
   },
   "source": [
    "### Author: Nuo Xu"
   ]
  }
 ],
 "metadata": {
  "kernelspec": {
   "display_name": "Python",
   "language": "python",
   "name": "conda-env-python-py"
  },
  "language_info": {
   "codemirror_mode": {
    "name": "ipython",
    "version": 3
   },
   "file_extension": ".py",
   "mimetype": "text/x-python",
   "name": "python",
   "nbconvert_exporter": "python",
   "pygments_lexer": "ipython3",
   "version": "3.7.12"
  }
 },
 "nbformat": 4,
 "nbformat_minor": 4
}
